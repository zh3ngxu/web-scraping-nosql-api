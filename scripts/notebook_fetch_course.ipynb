{
 "cells": [
  {
   "cell_type": "code",
   "execution_count": 1,
   "metadata": {},
   "outputs": [],
   "source": [
    "from urllib.request import urlopen\n",
    "from bs4 import BeautifulSoup\n",
    "import requests,json,time\n",
    "from random import randint\n",
    "import requests"
   ]
  },
  {
   "cell_type": "code",
   "execution_count": 6,
   "metadata": {},
   "outputs": [],
   "source": [
    "count = 1\n",
    "website = \"https://hackr.io/blog/tag/courses\"\n",
    "# html_content = urlopen(website)\n",
    "response = requests.get(website)\n",
    "soup_data = BeautifulSoup(response.text, 'lxml')\n",
    "urls = soup_data.findAll('a', attrs={'class': 'js-post-link'})"
   ]
  },
  {
   "cell_type": "code",
   "execution_count": 7,
   "metadata": {},
   "outputs": [
    {
     "data": {
      "text/plain": [
       "[<a class=\"js-post-link\" href=\"https://hackr.io/blog/google-career-certificates\"><h3 class=\"card-title\">Google Career Certificates to Help You Land a Job in 2024</h3></a>,\n",
       " <a class=\"btn js-post-link\" href=\"https://hackr.io/blog/google-career-certificates\">Read More <span><img alt=\"read more\" class=\"arrow\" src=\"https://hackr.io/assets/images/right-arrow-white.svg\"/></span> </a>,\n",
       " <a class=\"js-post-link\" href=\"https://hackr.io/blog/php-courses\"><h3 class=\"card-title\">Want To Learn PHP Web Development? Check Out These PHP Courses</h3></a>,\n",
       " <a class=\"btn js-post-link\" href=\"https://hackr.io/blog/php-courses\">Read More <span><img alt=\"read more\" class=\"arrow\" src=\"https://hackr.io/assets/images/right-arrow-white.svg\"/></span> </a>,\n",
       " <a class=\"js-post-link\" href=\"https://hackr.io/blog/on-sale-at-udemy\"><h3 class=\"card-title\">Best-Ever Prices on Programming Courses</h3></a>,\n",
       " <a class=\"btn js-post-link\" href=\"https://hackr.io/blog/on-sale-at-udemy\">Read More <span><img alt=\"read more\" class=\"arrow\" src=\"https://hackr.io/assets/images/right-arrow-white.svg\"/></span> </a>,\n",
       " <a class=\"js-post-link\" href=\"https://hackr.io/blog/python-course\"><h3 class=\"card-title\">This Academic Python Course Costs Less Than A College Credit</h3></a>,\n",
       " <a class=\"btn js-post-link\" href=\"https://hackr.io/blog/python-course\">Read More <span><img alt=\"read more\" class=\"arrow\" src=\"https://hackr.io/assets/images/right-arrow-white.svg\"/></span> </a>,\n",
       " <a class=\"js-post-link\" href=\"https://hackr.io/blog/24-hour-python-chatbot-course\"><h3 class=\"card-title\">Learn To Build A Python Chatbot In 24 Hours</h3></a>,\n",
       " <a class=\"btn js-post-link\" href=\"https://hackr.io/blog/24-hour-python-chatbot-course\">Read More <span><img alt=\"read more\" class=\"arrow\" src=\"https://hackr.io/assets/images/right-arrow-white.svg\"/></span> </a>,\n",
       " <a class=\"js-post-link\" href=\"https://hackr.io/blog/stanford-ai-professional-program\"><h3 class=\"card-title\">An Inside Look at Stanford’s AI Professional Program</h3></a>,\n",
       " <a class=\"btn js-post-link\" href=\"https://hackr.io/blog/stanford-ai-professional-program\">Read More <span><img alt=\"read more\" class=\"arrow\" src=\"https://hackr.io/assets/images/right-arrow-white.svg\"/></span> </a>,\n",
       " <a class=\"js-post-link\" href=\"https://hackr.io/blog/best-selenium-courses\"><h3 class=\"card-title\">11 Best Selenium Courses Online in 2024 [Free + Paid]</h3></a>,\n",
       " <a class=\"btn js-post-link\" href=\"https://hackr.io/blog/best-selenium-courses\">Read More <span><img alt=\"read more\" class=\"arrow\" src=\"https://hackr.io/assets/images/right-arrow-white.svg\"/></span> </a>,\n",
       " <a class=\"js-post-link\" href=\"https://hackr.io/blog/best-ios-development-courses\"><h3 class=\"card-title\">13 Best iOS Development Courses Online in 2024 [Free + Paid]</h3></a>,\n",
       " <a class=\"btn js-post-link\" href=\"https://hackr.io/blog/best-ios-development-courses\">Read More <span><img alt=\"read more\" class=\"arrow\" src=\"https://hackr.io/assets/images/right-arrow-white.svg\"/></span> </a>,\n",
       " <a class=\"js-post-link\" href=\"https://hackr.io/blog/best-vue-js-courses\"><h3 class=\"card-title\">The 12 Best Vue.js Courses Online in 2024 [Free + Paid]</h3></a>,\n",
       " <a class=\"btn js-post-link\" href=\"https://hackr.io/blog/best-vue-js-courses\">Read More <span><img alt=\"read more\" class=\"arrow\" src=\"https://hackr.io/assets/images/right-arrow-white.svg\"/></span> </a>,\n",
       " <a class=\"js-post-link\" href=\"https://hackr.io/blog/best-web-design-courses\"><h3 class=\"card-title\">The 8 Best Web Design Courses Online in 2024: Top 8 [Free + Paid]</h3></a>,\n",
       " <a class=\"btn js-post-link\" href=\"https://hackr.io/blog/best-web-design-courses\">Read More <span><img alt=\"read more\" class=\"arrow\" src=\"https://hackr.io/assets/images/right-arrow-white.svg\"/></span> </a>,\n",
       " <a class=\"js-post-link\" href=\"https://hackr.io/blog/best-redux-courses\"><h3 class=\"card-title\">The 10 Best Redux Courses Online in 2024 [Free + Paid]</h3></a>,\n",
       " <a class=\"btn js-post-link\" href=\"https://hackr.io/blog/best-redux-courses\">Read More <span><img alt=\"read more\" class=\"arrow\" src=\"https://hackr.io/assets/images/right-arrow-white.svg\"/></span> </a>,\n",
       " <a class=\"js-post-link\" href=\"https://hackr.io/blog/best-database-courses\"><h3 class=\"card-title\">9 Best Database Courses Online in 2024 [Free + Paid]</h3></a>,\n",
       " <a class=\"btn js-post-link\" href=\"https://hackr.io/blog/best-database-courses\">Read More <span><img alt=\"read more\" class=\"arrow\" src=\"https://hackr.io/assets/images/right-arrow-white.svg\"/></span> </a>]"
      ]
     },
     "execution_count": 7,
     "metadata": {},
     "output_type": "execute_result"
    }
   ],
   "source": [
    "urls"
   ]
  },
  {
   "cell_type": "code",
   "execution_count": 64,
   "metadata": {},
   "outputs": [
    {
     "data": {
      "text/plain": [
       "'Want To Learn PHP Web Development? Check Out These PHP Courses'"
      ]
     },
     "execution_count": 64,
     "metadata": {},
     "output_type": "execute_result"
    }
   ],
   "source": [
    "course_name = urls[2].get_text()\n",
    "course_name"
   ]
  },
  {
   "cell_type": "code",
   "execution_count": 17,
   "metadata": {},
   "outputs": [],
   "source": [
    "course_url = urls[0].attrs[\"href\"]\n",
    "response = requests.get(course_url)\n",
    "if response.status_code==200:\n",
    "    course_content = BeautifulSoup(response.text, 'lxml')"
   ]
  },
  {
   "cell_type": "code",
   "execution_count": 59,
   "metadata": {},
   "outputs": [
    {
     "data": {
      "text/plain": [
       "'Google Career Certificates to Help You Land a Job in 2024'"
      ]
     },
     "execution_count": 59,
     "metadata": {},
     "output_type": "execute_result"
    }
   ],
   "source": [
    "urls[0].get_text()"
   ]
  },
  {
   "cell_type": "code",
   "execution_count": 33,
   "metadata": {},
   "outputs": [
    {
     "data": {
      "text/plain": [
       "'Robert Johns'"
      ]
     },
     "execution_count": 33,
     "metadata": {},
     "output_type": "execute_result"
    }
   ],
   "source": [
    "author_tag = course_content.find(\"a\", {\"class\":\"align-middle inline-block text-hackr-blue text-p14 font-medium\"})\n",
    "author = author_tag.get_text().strip()\n",
    "author"
   ]
  },
  {
   "cell_type": "code",
   "execution_count": 37,
   "metadata": {},
   "outputs": [
    {
     "name": "stdout",
     "output_type": "stream",
     "text": [
      "04 Jan, 2024\n"
     ]
    }
   ],
   "source": [
    "course_date_tags = course_content.findAll(\"span\", {\"class\":\"align-middle inline-block text-hackr-black text-p14 font-medium\"})\n",
    "for course_date_tag in course_date_tags:\n",
    "    course_date = course_date_tag.get_text().strip()\n",
    "    if course_date != \"|\":\n",
    "        print(course_date)"
   ]
  },
  {
   "cell_type": "code",
   "execution_count": 31,
   "metadata": {},
   "outputs": [
    {
     "data": {
      "text/plain": [
       "'|'"
      ]
     },
     "execution_count": 31,
     "metadata": {},
     "output_type": "execute_result"
    }
   ],
   "source": [
    "course_date_tag = course_content.find(\"span\", {\"class\":\"align-middle inline-block text-hackr-black text-p14 font-medium\"})\n",
    "course_date = course_date_tag.get_text().strip()\n",
    "course_date"
   ]
  },
  {
   "cell_type": "code",
   "execution_count": 48,
   "metadata": {},
   "outputs": [],
   "source": [
    "article_content_tag = course_content.find(\"article\",{\"class\":\"article-content\"})\n",
    "article_paragraphs=[ article_paragraph.get_text() for article_paragraph in article_content_tag.findAll(\"span\",{\"style\":\"font-weight: 400;\"})[:4]]\n",
    "article_content_first_4 = \"\".join(article_paragraphs)"
   ]
  },
  {
   "cell_type": "code",
   "execution_count": 49,
   "metadata": {},
   "outputs": [
    {
     "data": {
      "text/plain": [
       "\"New Feature - Listen to this articleReady to kickstart your tech career in 2024? How about getting job access to major companies like Google, Verizon, Adobe, Dell, T-Mobile, Wells Fargo, and Deloitte?If that all sounds good, let me introduce you to the best Google career certificates in 2024!If you want the TL-DR, Google career certificates are professional awards that you can earn after taking an online program from Google that's designed to give you the fast track to landing a job in high-growth fields.\""
      ]
     },
     "execution_count": 49,
     "metadata": {},
     "output_type": "execute_result"
    }
   ],
   "source": [
    "article_content_first_4"
   ]
  },
  {
   "cell_type": "code",
   "execution_count": 61,
   "metadata": {},
   "outputs": [
    {
     "name": "stdout",
     "output_type": "stream",
     "text": [
      "Data written to output.csv\n"
     ]
    }
   ],
   "source": [
    "import csv\n",
    "\n",
    "def write_to_csv(file_path,*args):\n",
    "    with open(file_path, mode='w', newline='') as csv_file:\n",
    "        csv_writer = csv.writer(csv_file, delimiter=',')\n",
    "        csv_writer.writerow(['course_name', 'author', 'course_date','article_content'])\n",
    "        csv_writer.writerow(args)\n",
    "\n",
    "\n",
    "file_path = 'output.csv'\n",
    "\n",
    "write_to_csv(file_path, author, course_date)\n",
    "\n",
    "print(f\"Data written to {file_path}\")\n"
   ]
  },
  {
   "cell_type": "code",
   "execution_count": 71,
   "metadata": {},
   "outputs": [
    {
     "name": "stdout",
     "output_type": "stream",
     "text": [
      "course tag:   \n",
      "course link:  https://hackr.io/blog/google-career-certificates\n",
      "course title:  Google Career Certificates to Help You Land a Job in 2024\n",
      "course tag:   \n",
      "course link:  https://hackr.io/blog/php-courses\n",
      "course title:  Want To Learn PHP Web Development? Check Out These PHP Courses\n",
      "course tag:    Data Science  /   Courses  \n",
      "course link:  https://hackr.io/blog/on-sale-at-udemy\n",
      "course title:  Best-Ever Prices on Programming Courses\n",
      "course tag:    Python  /   Courses  \n",
      "course link:  https://hackr.io/blog/python-course\n",
      "course title:  This Academic Python Course Costs Less Than A College Credit\n",
      "course tag:    Artificial Intelligence  \n",
      "course link:  https://hackr.io/blog/24-hour-python-chatbot-course\n",
      "course title:  Learn To Build A Python Chatbot In 24 Hours\n",
      "course tag:    Artificial Intelligence  \n",
      "course link:  https://hackr.io/blog/stanford-ai-professional-program\n",
      "course title:  An Inside Look at Stanford’s AI Professional Program\n",
      "course tag:    Selenium  \n",
      "course link:  https://hackr.io/blog/best-selenium-courses\n",
      "course title:  11 Best Selenium Courses Online in 2024 [Free + Paid]\n",
      "course tag:    Programming  \n",
      "course link:  https://hackr.io/blog/best-ios-development-courses\n",
      "course title:  13 Best iOS Development Courses Online in 2024 [Free + Paid]\n",
      "course tag:    Vue.js  \n",
      "course link:  https://hackr.io/blog/best-vue-js-courses\n",
      "course title:  The 12 Best Vue.js Courses Online in 2024 [Free + Paid]\n",
      "course tag:    Web Development  \n",
      "course link:  https://hackr.io/blog/best-web-design-courses\n",
      "course title:  The 8 Best Web Design Courses Online in 2024: Top 8 [Free + Paid]\n",
      "course tag:    Redux  /   Courses  \n",
      "course link:  https://hackr.io/blog/best-redux-courses\n",
      "course title:  The 10 Best Redux Courses Online in 2024 [Free + Paid]\n",
      "course tag:   \n",
      "course link:  https://hackr.io/blog/best-database-courses\n",
      "course title:  9 Best Database Courses Online in 2024 [Free + Paid]\n"
     ]
    }
   ],
   "source": [
    "# using course card\n",
    "for course_card in soup_data.find_all(\"div\", {\"class\":\"col-md-4 col-sm-6\"}):\n",
    "    print(\"course tag: \", course_card.find(\"div\",{\"class\":\"tags\"}).get_text())\n",
    "    print(\"course link: \", course_card.find(\"a\",{\"class\":\"js-post-link\"}).attrs.get(\"href\",None))\n",
    "    print(\"course title: \", course_card.find(\"h3\",{\"class\":\"card-title\"}).get_text())"
   ]
  },
  {
   "cell_type": "code",
   "execution_count": 77,
   "metadata": {},
   "outputs": [
    {
     "name": "stdout",
     "output_type": "stream",
     "text": [
      "author:  Robert Johns\n",
      "course date:  04 Jan, 2024\n",
      "article content:  New Feature - Listen to this a ...\n"
     ]
    },
    {
     "data": {
      "text/plain": [
       "True"
      ]
     },
     "execution_count": 77,
     "metadata": {},
     "output_type": "execute_result"
    }
   ],
   "source": [
    "import time\n",
    "\n",
    "def get_single_course_info(url):\n",
    "    time.sleep(randint(0, 4))\n",
    "    response = requests.get(course_url)\n",
    "    if response.status_code==200:\n",
    "        course_content = BeautifulSoup(response.text, 'lxml')\n",
    "\n",
    "        author_tag = course_content.find(\"a\", {\"class\":\"align-middle inline-block text-hackr-blue text-p14 font-medium\"})\n",
    "        author = author_tag.get_text().strip()\n",
    "        print(\"author: \", author)\n",
    "\n",
    "        course_date_tags = course_content.findAll(\"span\", {\"class\":\"align-middle inline-block text-hackr-black text-p14 font-medium\"})\n",
    "        for course_date_tag in course_date_tags:\n",
    "            course_date = course_date_tag.get_text().strip()\n",
    "            if course_date != \"|\":\n",
    "                course_date\n",
    "        print(\"course date: \", course_date)\n",
    "\n",
    "        article_content_tag = course_content.find(\"article\",{\"class\":\"article-content\"})\n",
    "        article_paragraphs=[ article_paragraph.get_text() for article_paragraph in article_content_tag.findAll(\"span\",{\"style\":\"font-weight: 400;\"})[:4]]\n",
    "        article_content_first_4_graph = \"\".join(article_paragraphs)\n",
    "        print(\"article content: \", article_content_first_4_graph[:30], \"...\")\n",
    "    \n",
    "    return True\n",
    "\n",
    "get_single_course_info(\"https://hackr.io/blog/best-database-courses\")"
   ]
  },
  {
   "cell_type": "code",
   "execution_count": 87,
   "metadata": {},
   "outputs": [
    {
     "name": "stdout",
     "output_type": "stream",
     "text": [
      "author:  Ankit Sharma\n",
      "course date:  15 Aug, 2023\n",
      "article content:  Now more than ever, data conti ...\n"
     ]
    }
   ],
   "source": [
    "time.sleep(randint(0, 4))\n",
    "response = requests.get(\"https://hackr.io/blog/best-database-courses\")\n",
    "if response.status_code==200:\n",
    "    course_content = BeautifulSoup(response.text, 'lxml')\n",
    "\n",
    "    author_tag = course_content.find(\"a\", {\"class\":\"align-middle inline-block text-hackr-blue text-p14 font-medium\"})\n",
    "    author = author_tag.get_text().strip()\n",
    "    print(\"author: \", author)\n",
    "\n",
    "    course_date_tags = course_content.findAll(\"span\", {\"class\":\"align-middle inline-block text-hackr-black text-p14 font-medium\"})\n",
    "    for course_date_tag in course_date_tags:\n",
    "        course_date = course_date_tag.get_text().strip()\n",
    "        if course_date != \"|\":\n",
    "            course_date\n",
    "    print(\"course date: \", course_date)\n",
    "\n",
    "    article_content_tag = course_content.find(\"article\",{\"class\":\"article-content\"})\n",
    "    # article_paragraphs=[ article_paragraph.get_text() for article_paragraph in article_content_tag.findAll(\"span\",{\"style\":\"font-weight: 400;\"})[:4]]\n",
    "    article_paragraphs=[ article_paragraph.get_text() for article_paragraph in article_content_tag.findAll(\"p\")[:4]]\n",
    "    article_content_first_4_graph = \"\".join(article_paragraphs)\n",
    "    print(\"article content: \", article_content_first_4_graph[:30], \"...\")"
   ]
  },
  {
   "cell_type": "code",
   "execution_count": 82,
   "metadata": {},
   "outputs": [
    {
     "data": {
      "text/plain": [
       "<article class=\"article-content\"> <!DOCTYPE html>\n",
       "\n",
       "<p>Now more than ever, data continues to be one of the most valuable resources for organizations of all sizes in nearly every industry you can think of. When the time comes to choose the best way to handle data, the humble database is still one of the most reliable and trustworthy methods for storing, accessing, and manipulating data. </p>\n",
       "<p>With this in mind, it’s no wonder that the demand for data–driven roles continues to soar. So whether you’re interested in database administration, data engineering, data science, full-stack development, or a host of other data-related roles, there’s never been a better time to add database skills to your resume.</p>\n",
       "<p>To help you learn these valuable skills, we’ve found the 10 best database courses online in 2024. And with free and paid options for complete beginners and more experienced developers or engineers, there’s definitely something for you on our list. </p>\n",
       "<p><strong>Featured Database Courses [Editor’s Picks]</strong></p>\n",
       "<ul>\n",
       "<li><strong><a href=\"https://click.linksynergy.com/deeplink?id=jU79Zysihs4&amp;mid=39197&amp;murl=https%3A%2F%2Fwww.udemy.com%2Fcourse%2Fthe-ultimate-mysql-bootcamp-go-from-sql-beginner-to-expert%2F\" rel=\"noopener nofollow\" target=\"_blank\">[Udemy] The Ultimate MySQL Bootcamp: Go from SQL Beginner to Expert</a></strong></li>\n",
       "<li><strong style=\"font-family: Inter, ui-sans-serif, system-ui, -apple-system, BlinkMacSystemFont, 'Segoe UI', Roboto, 'Helvetica Neue', Arial, 'Noto Sans', sans-serif, 'Apple Color Emoji', 'Segoe UI Emoji', 'Segoe UI Symbol', 'Noto Color Emoji'; font-size: 16px;\"><a href=\"https://imp.i384100.net/c/2890636/1347618/14726?u=https%3A%2F%2Fwww.coursera.org%2Flearn%2Fintroduction-to-databases&amp;partnerpropertyid=2722169\" rel=\"noopener nofollow\" target=\"_blank\">[Coursera] Introduction to Databases</a></strong></li>\n",
       "<li><strong style=\"font-family: Inter, ui-sans-serif, system-ui, -apple-system, BlinkMacSystemFont, 'Segoe UI', Roboto, 'Helvetica Neue', Arial, 'Noto Sans', sans-serif, 'Apple Color Emoji', 'Segoe UI Emoji', 'Segoe UI Symbol', 'Noto Color Emoji'; font-size: 16px;\"><a href=\"https://imp.i384100.net/n1qq56\" rel=\"noopener nofollow\" target=\"_blank\">[Coursera] Introduction to Relational Databases (RDBMS)</a></strong></li>\n",
       "</ul>\n",
       "<h2 id=\"picking-the-best-database-online-courses\"><strong>Picking The Best Database Online Courses</strong></h2>\n",
       "<p>In order to select the best database courses we considered several factors.</p>\n",
       "<ul>\n",
       "<li><strong>Course Material:</strong> Is this well-structured and up-to-date?</li>\n",
       "<li><strong>Instructor:</strong> Do they have professional or teaching experience?</li>\n",
       "<li><strong>Support:</strong> Can you access the instructor? Is their community support?</li>\n",
       "<li><strong>Certification:</strong> Is there a certificate of completion for your resume?</li>\n",
       "</ul>\n",
       "<h2 id=\"the-9-best-databases-courses\"><strong>The 9 Best Databases Courses</strong></h2>\n",
       "<div style=\"overflow-x:auto;\"><table style=\"height: 740px; width: 703px;\">\n",
       "<tbody>\n",
       "<tr style=\"height: 55px;\">\n",
       "<td style=\"height: 55px; width: 360px;\">\n",
       "<p style=\"text-align: center;\"><strong>Course</strong></p>\n",
       "</td>\n",
       "<td style=\"height: 55px; width: 95px;\">\n",
       "<p style=\"text-align: center;\"><strong>Free or Paid</strong></p>\n",
       "</td>\n",
       "<td style=\"height: 55px; width: 247.986px;\">\n",
       "<p style=\"text-align: center;\"><strong>Level</strong></p>\n",
       "</td>\n",
       "</tr>\n",
       "<tr style=\"height: 55px;\">\n",
       "<td style=\"height: 55px; width: 360px;\">\n",
       "<p><a href=\"https://imp.i384100.net/c/2890636/1347618/14726?u=https%3A%2F%2Fwww.coursera.org%2Flearn%2Fintroduction-to-databases&amp;partnerpropertyid=2722169\" rel=\"noopener nofollow\" target=\"_blank\">[Coursera] Introduction to Databases</a></p>\n",
       "</td>\n",
       "<td style=\"height: 55px; width: 95px;\">\n",
       "<p style=\"text-align: center;\">Paid</p>\n",
       "</td>\n",
       "<td style=\"height: 55px; width: 247.986px;\">\n",
       "<p style=\"text-align: center;\">Beginner</p>\n",
       "</td>\n",
       "</tr>\n",
       "<tr style=\"height: 55px;\">\n",
       "<td style=\"height: 55px; width: 360px;\">\n",
       "<p><a href=\"https://click.linksynergy.com/deeplink?id=jU79Zysihs4&amp;mid=39197&amp;murl=https%3A%2F%2Fwww.udemy.com%2Fcourse%2Frelational-database-design%2F\" rel=\"noopener nofollow\" target=\"_blank\">[Udemy] Relational Database Design</a></p>\n",
       "</td>\n",
       "<td style=\"height: 55px; width: 95px;\">\n",
       "<p style=\"text-align: center;\">Paid</p>\n",
       "</td>\n",
       "<td style=\"height: 55px; width: 247.986px;\">\n",
       "<p style=\"text-align: center;\">Beginner</p>\n",
       "</td>\n",
       "</tr>\n",
       "<tr style=\"height: 79px;\">\n",
       "<td style=\"height: 79px; width: 360px;\">\n",
       "<p><a href=\"https://click.linksynergy.com/deeplink?id=jU79Zysihs4&amp;mid=39197&amp;murl=https%3A%2F%2Fwww.udemy.com%2Fcourse%2Fthe-ultimate-mysql-bootcamp-go-from-sql-beginner-to-expert%2F\" rel=\"noopener nofollow\" target=\"_blank\">[Udemy] The Ultimate MySQL Bootcamp: Go from SQL Beginner to Expert</a></p>\n",
       "</td>\n",
       "<td style=\"height: 79px; width: 95px;\">\n",
       "<p style=\"text-align: center;\">Paid</p>\n",
       "</td>\n",
       "<td style=\"height: 79px; width: 247.986px;\">\n",
       "<p style=\"text-align: center;\">Beginner</p>\n",
       "</td>\n",
       "</tr>\n",
       "<tr style=\"height: 103px;\">\n",
       "<td style=\"height: 103px; width: 360px;\">\n",
       "<p><a href=\"https://www.youtube.com/watch?v=4cWkVbC2bNE\" rel=\"noopener\" target=\"_blank\">[FreeCodeCamp] Database Systems - Cornell University Course (SQL, NoSQL, Large-Scale Data Analysis)</a></p>\n",
       "</td>\n",
       "<td style=\"height: 103px; width: 95px;\">\n",
       "<p style=\"text-align: center;\">Free</p>\n",
       "</td>\n",
       "<td style=\"height: 103px; width: 247.986px;\">\n",
       "<p style=\"text-align: center;\">Beginner</p>\n",
       "</td>\n",
       "</tr>\n",
       "<tr style=\"height: 55px;\">\n",
       "<td style=\"height: 55px; width: 360px;\">\n",
       "<p><a href=\"https://edx.sjv.io/c/2890636/1598007/17728?u=https%3A%2F%2Fwww.edx.org%2Fcourse%2Fdatabases-5-sql\" rel=\"noopener nofollow\" target=\"_blank\">[edX] Databases: Relational Databases and SQL</a></p>\n",
       "</td>\n",
       "<td style=\"height: 55px; width: 95px;\">\n",
       "<p style=\"text-align: center;\">Paid</p>\n",
       "</td>\n",
       "<td style=\"height: 55px; width: 247.986px;\">\n",
       "<p style=\"text-align: center;\">Beginner</p>\n",
       "</td>\n",
       "</tr>\n",
       "<tr style=\"height: 79px;\">\n",
       "<td style=\"height: 79px; width: 360px;\">\n",
       "<p><a href=\"https://www.linkedin.com/learning/paths/become-a-database-administrator\" rel=\"noopener\" target=\"_blank\">[LinkedIn Learning] Become a Database Administrator</a></p>\n",
       "</td>\n",
       "<td style=\"height: 79px; width: 95px;\">\n",
       "<p style=\"text-align: center;\">Paid</p>\n",
       "</td>\n",
       "<td style=\"height: 79px; width: 247.986px;\">\n",
       "<p style=\"text-align: center;\">Beginner</p>\n",
       "</td>\n",
       "</tr>\n",
       "<tr style=\"height: 79px;\">\n",
       "<td style=\"height: 79px; width: 360px;\">\n",
       "<p><a href=\"https://imp.i384100.net/c/2890636/1347618/14726?u=https%3A%2F%2Fwww.coursera.org%2Flearn%2Fintroduction-to-relational-databases&amp;partnerpropertyid=2722169\" rel=\"noopener nofollow\" target=\"_blank\">[Coursera] Introduction to Relational Databases (RDBMS)</a></p>\n",
       "</td>\n",
       "<td style=\"height: 79px; width: 95px;\">\n",
       "<p style=\"text-align: center;\">Paid</p>\n",
       "</td>\n",
       "<td style=\"height: 79px; width: 247.986px;\">\n",
       "<p style=\"text-align: center;\">Intermediate</p>\n",
       "</td>\n",
       "</tr>\n",
       "<tr style=\"height: 79px;\">\n",
       "<td style=\"height: 79px; width: 360px;\">\n",
       "<p><a href=\"https://imp.i384100.net/c/2890636/1347618/14726?u=https%3A%2F%2Fwww.coursera.org%2Fspecializations%2Fpostgresql-for-everybody%23instructors&amp;partnerpropertyid=2722169\" rel=\"noopener nofollow\" target=\"_blank\">[Coursera] PostgreSQL for Everybody Specialization on Coursera</a></p>\n",
       "</td>\n",
       "<td style=\"height: 79px; width: 95px;\">\n",
       "<p style=\"text-align: center;\">Paid</p>\n",
       "</td>\n",
       "<td style=\"height: 79px; width: 247.986px;\">\n",
       "<p style=\"text-align: center;\">Intermediate</p>\n",
       "</td>\n",
       "</tr>\n",
       "<tr style=\"height: 79px;\">\n",
       "<td style=\"height: 79px; width: 360px;\">\n",
       "<p><a href=\"https://click.linksynergy.com/deeplink?id=jU79Zysihs4&amp;mid=39197&amp;murl=https%3A%2F%2Fwww.udemy.com%2Fcourse%2Fadvanced-tsql-querying-using-sql-2014%2F\" rel=\"noopener nofollow\" target=\"_blank\">[Udemy] Advanced Databases and SQL Querying</a></p>\n",
       "</td>\n",
       "<td style=\"height: 79px; width: 95px;\">\n",
       "<p style=\"text-align: center;\">Free</p>\n",
       "</td>\n",
       "<td style=\"height: 79px; width: 247.986px;\">\n",
       "<p style=\"text-align: center;\">Advanced</p>\n",
       "</td>\n",
       "</tr>\n",
       "</tbody>\n",
       "</table></div>\n",
       "<p><strong>Want to add SQL skills to your repertoire? Check out </strong><a href=\"https://hackr.io/blog/best-sql-courses\"><strong>The Best SQL Courses</strong></a></p>\n",
       "<h3 id=\"toc-1-coursera-introduction-to-databases\"><strong>1. </strong><a href=\"https://imp.i384100.net/c/2890636/1347618/14726?u=https%3A%2F%2Fwww.coursera.org%2Flearn%2Fintroduction-to-databases&amp;partnerpropertyid=2722169\" rel=\"noopener nofollow\" target=\"_blank\"><strong>[Coursera] Introduction to Databases</strong></a></h3>\n",
       "<p><a href=\"https://imp.i384100.net/c/2890636/1347618/14726?u=https%3A%2F%2Fwww.coursera.org%2Flearn%2Fintroduction-to-databases&amp;partnerpropertyid=2722169\" rel=\"noopener nofollow\" target=\"_blank\"><strong><img alt=\"\" loading=\"lazy\" src=\"https://cdn.hackr.io/uploads/posts/attachments/1675332332n4QjYiFaSk.png\"/></strong></a></p>\n",
       "<p style=\"text-align: center;\"><strong><a class=\"btn btn-primary btn-call-to-action\" href=\"https://imp.i384100.net/c/2890636/1347618/14726?u=https%3A%2F%2Fwww.coursera.org%2Flearn%2Fintroduction-to-databases&amp;partnerpropertyid=2722169\" rel=\"noopener nofollow\" target=\"_blank\">Learn More</a></strong></p>\n",
       "<p><strong>Why we chose this course</strong></p>\n",
       "<p>This online database course is ideal if you're new to databases, as it provides an introduction to data modeling, SQL, and database design.</p>\n",
       "<p>With industry-recognized instructors from Meta (formerly FaceBook), you’ll learn how to manipulate databases with SQL, learn about alternatives to SQL, and even design an RDBMS. There’s even a section about MySQL.</p>\n",
       "<p><strong>Pros</strong></p>\n",
       "<ul>\n",
       "<li>Covers basic &amp; advanced concepts like scalability &amp; performance</li>\n",
       "<li>Hands-on experience with real-world datasets in a virtual environment</li>\n",
       "<li>Interactivity with other students</li>\n",
       "</ul>\n",
       "<p><strong>Cons</strong></p>\n",
       "<ul>\n",
       "<li>No direct support from tutors</li>\n",
       "</ul>\n",
       "<p><strong>Key Information</strong></p>\n",
       "<p><strong>Prerequisites: </strong>None</p>\n",
       "<p><strong>Instructor: </strong>Meta Staff</p>\n",
       "<p><strong>Level: </strong>Beginner</p>\n",
       "<p><strong>Free or Paid:</strong> Paid</p>\n",
       "<p><strong>Duration: </strong>27 hours (Video content)</p>\n",
       "<p><strong>Certificate: </strong>Yes</p>\n",
       "<h3 id=\"toc-2-udemy-relational-database-design\"><strong>2. </strong><a href=\"https://click.linksynergy.com/deeplink?id=jU79Zysihs4&amp;mid=39197&amp;murl=https%3A%2F%2Fwww.udemy.com%2Fcourse%2Frelational-database-design%2F\" rel=\"noopener nofollow\" target=\"_blank\"><strong>[Udemy] Relational Database Design</strong></a></h3>\n",
       "<p style=\"text-align: center;\"><a href=\"https://click.linksynergy.com/deeplink?id=jU79Zysihs4&amp;mid=39197&amp;murl=https%3A%2F%2Fwww.udemy.com%2Fcourse%2Frelational-database-design%2F\" rel=\"noopener nofollow\" target=\"_blank\"><img alt=\"\" height=\"720\" loading=\"lazy\" src=\"https://cdn.hackr.io/uploads/posts/attachments/1675419012pXfPYPfFnZ.png\" width=\"960\"/></a></p>\n",
       "<p style=\"text-align: center;\"><strong><a class=\"btn btn-primary btn-call-to-action\" href=\"https://click.linksynergy.com/deeplink?id=jU79Zysihs4&amp;mid=39197&amp;murl=https%3A%2F%2Fwww.udemy.com%2Fcourse%2Frelational-database-design%2F\" rel=\"noopener nofollow\" target=\"_blank\">Learn More</a></strong></p>\n",
       "<p><strong>Why we chose this course</strong></p>\n",
       "<p>This short course is an ideal introduction to relational database management systems and database design.</p>\n",
       "<p>You’ll learn about entity relationship diagrams (ERD), normalization, table relationships, and how to design complex databases from scratch in less than 2 hours.</p>\n",
       "<p><strong>Pros</strong></p>\n",
       "<ul>\n",
       "<li>Short course to quickly learn database design from scratch</li>\n",
       "<li>Covers ERD, normalization &amp; relationships</li>\n",
       "</ul>\n",
       "<p><strong>Cons</strong></p>\n",
       "<ul>\n",
       "<li>Brief course, so you may need supplemental learning</li>\n",
       "</ul>\n",
       "<p><strong>Key Information</strong></p>\n",
       "<p><strong>Prerequisites:</strong> None</p>\n",
       "<p><strong>Instructor:</strong> Ben Brumm</p>\n",
       "<p><strong>Level: </strong>Beginner</p>\n",
       "<p><strong>Free or Paid: </strong>Paid</p>\n",
       "<p><strong>Certificate: </strong>Yes</p>\n",
       "<p><strong>Duration: </strong>1.5 hours (Video content)</p>\n",
       "<h3 id=\"toc-3-udemy-the-ultimate-mysql-bootcamp-go-from-sql-beginner-to-expert\"><strong>3. </strong><a href=\"https://click.linksynergy.com/deeplink?id=jU79Zysihs4&amp;mid=39197&amp;murl=https%3A%2F%2Fwww.udemy.com%2Fcourse%2Fthe-ultimate-mysql-bootcamp-go-from-sql-beginner-to-expert%2F\" rel=\"noopener nofollow\" target=\"_blank\"><strong>[Udemy] The Ultimate MySQL Bootcamp: Go from SQL Beginner to Expert</strong></a></h3>\n",
       "<p style=\"text-align: center;\"><a href=\"https://click.linksynergy.com/deeplink?id=jU79Zysihs4&amp;mid=39197&amp;murl=https%3A%2F%2Fwww.udemy.com%2Fcourse%2Fthe-ultimate-mysql-bootcamp-go-from-sql-beginner-to-expert%2F\" rel=\"noopener nofollow\" target=\"_blank\"><img alt=\"\" height=\"720\" loading=\"lazy\" src=\"https://cdn.hackr.io/uploads/posts/attachments/1675419057o5lf77z2Qk.png\" width=\"960\"/></a></p>\n",
       "<p style=\"text-align: center;\"><strong><a class=\"btn btn-primary btn-call-to-action\" href=\"https://click.linksynergy.com/deeplink?id=jU79Zysihs4&amp;mid=39197&amp;murl=https%3A%2F%2Fwww.udemy.com%2Fcourse%2Fthe-ultimate-mysql-bootcamp-go-from-sql-beginner-to-expert%2F\" rel=\"noopener nofollow\" target=\"_blank\">Learn More</a></strong></p>\n",
       "<p><strong>Why we chose this course</strong></p>\n",
       "<p>As one of the best database courses for beginners, you can expect to learn SQL and how to use the immensely popular MySQL RDBMS.</p>\n",
       "<p>Before diving into data types, CRUD operations, functions, database relations, and more, expect to learn the difference between SQL, MySQL, and PostgreSQL.</p>\n",
       "<p><strong>Pros</strong></p>\n",
       "<ul>\n",
       "<li>Comprehensive material to learn SQL, including best practices</li>\n",
       "<li>Covers essential topics like JOINs, Window Functions, Views, and more</li>\n",
       "<li>Includes exercises and challenges</li>\n",
       "</ul>\n",
       "<p><strong>Cons</strong></p>\n",
       "<ul>\n",
       "<li>Some topics may be challenging for beginners</li>\n",
       "</ul>\n",
       "<p><strong>Key Information</strong></p>\n",
       "<p><strong>Prerequisites: </strong>None</p>\n",
       "<p><strong>Instructor: </strong>Colt Steele</p>\n",
       "<p><strong>Level: </strong>Beginner</p>\n",
       "<p><strong>Free or Paid: </strong>Paid</p>\n",
       "<p><strong>Certificate: </strong>Yes</p>\n",
       "<p><strong>Duration: </strong>36.5 hours (Video content)</p>\n",
       "<p><strong>Want to take your SQL skills to the next level? Check out </strong><a href=\"https://hackr.io/blog/best-sql-books\"><strong>The Best SQL Books</strong></a></p>\n",
       "<h3 id=\"toc-4-freecodecamp-database-systems-cornell-university-course-sql-nosql-large-scale-data-analysis\"><strong>4. </strong><a href=\"https://www.youtube.com/watch?v=4cWkVbC2bNE\" rel=\"noopener\" target=\"_blank\"><strong>[FreeCodeCamp] Database Systems - Cornell University Course (SQL, NoSQL, Large-Scale Data Analysis)</strong></a></h3>\n",
       "<p style=\"text-align: center;\"><a href=\"https://www.youtube.com/watch?v=4cWkVbC2bNE\" rel=\"noopener\" target=\"_blank\"><img alt=\"\" height=\"720\" loading=\"lazy\" src=\"https://cdn.hackr.io/uploads/posts/attachments/1675419096ucw47SsytH.png\" width=\"960\"/></a></p>\n",
       "<p style=\"text-align: center;\"><strong><a class=\"btn btn-primary btn-call-to-action\" href=\"https://www.youtube.com/watch?v=4cWkVbC2bNE\" rel=\"noopener\" target=\"_blank\">Learn More</a></strong></p>\n",
       "<p><strong>Why we chose this course</strong></p>\n",
       "<p>If you’re looking for free database courses that teach you how to query databases from scratch, this database training is an excellent option for you.</p>\n",
       "<p>You’ll start by learning the SQL essentials, allowing you to store and index data in a database. You’ll then cover relational data processing, transactions, database design, and the brave new world of non-relational databases with NoSQL.</p>\n",
       "<p><strong>Pros</strong></p>\n",
       "<ul>\n",
       "<li>Totally free course from world-renowned Cornell University</li>\n",
       "<li>Covers SQL essentials</li>\n",
       "<li>Section on NoSQL and non-relational databases</li>\n",
       "</ul>\n",
       "<p><strong>Cons</strong></p>\n",
       "<ul>\n",
       "<li>Taught like a University class with lecture slides, so no interactive or hands-on practice</li>\n",
       "</ul>\n",
       "<p><strong>Key Information</strong></p>\n",
       "<p><strong>Prerequisites: </strong>None</p>\n",
       "<p><strong>Instructor: </strong>Immanuel Trummer</p>\n",
       "<p><strong>Level: </strong>Beginner</p>\n",
       "<p><strong>Free or Paid: </strong>Free</p>\n",
       "<p><strong>Certificate: </strong>Yes</p>\n",
       "<p><strong>Duration: </strong>17 hours (Video content)</p>\n",
       "<h3 id=\"toc-5-edx-databases-relational-databases-and-sql\"><strong>5. </strong><a href=\"https://edx.sjv.io/c/2890636/1598007/17728?u=https%3A%2F%2Fwww.edx.org%2Fcourse%2Fdatabases-5-sql\" rel=\"noopener nofollow\" target=\"_blank\"><strong>[edX] Databases: Relational Databases and SQL</strong></a></h3>\n",
       "<p style=\"text-align: center;\"><a href=\"https://edx.sjv.io/c/2890636/1598007/17728?u=https%3A%2F%2Fwww.edx.org%2Fcourse%2Fdatabases-5-sql\" rel=\"noopener nofollow\" target=\"_blank\"><img alt=\"\" height=\"720\" loading=\"lazy\" src=\"https://cdn.hackr.io/uploads/posts/attachments/1675419130icDkK8AaXE.png\" width=\"960\"/></a></p>\n",
       "<p style=\"text-align: center;\"><strong><a class=\"btn btn-primary btn-call-to-action\" href=\"https://edx.sjv.io/c/2890636/1598007/17728?u=https%3A%2F%2Fwww.edx.org%2Fcourse%2Fdatabases-5-sql\" rel=\"noopener nofollow\" target=\"_blank\">Learn More</a></strong></p>\n",
       "<p><strong>Why we chose this course</strong></p>\n",
       "<p>This introductory course from from Stanford University is a great way to learn about relational databases and SQL. Not only will you learn about relational models in relational databases and relational database management systems (RDBMS), but you’ll benefit from a comprehensive set of lessons on SQL.</p>\n",
       "<p><strong>Pros</strong></p>\n",
       "<ul>\n",
       "<li>Learn the foundations of relational databases</li>\n",
       "<li>Comprehensive lessons on SQL</li>\n",
       "<li>Includes quizzes and assessments</li>\n",
       "<li>Taught by Standford University </li>\n",
       "</ul>\n",
       "<p><strong>Cons</strong></p>\n",
       "<ul>\n",
       "<li>Detailed but introductory content, so you may need supplemental learning</li>\n",
       "</ul>\n",
       "<p><strong>Key Information</strong></p>\n",
       "<p><strong>Prerequisites: </strong>Computer science basics</p>\n",
       "<p><strong>Instructor:</strong> Jennifer Widom</p>\n",
       "<p><strong>Level: </strong>Beginner</p>\n",
       "<p><strong>Free or Paid:</strong> Paid</p>\n",
       "<p><strong>Certificate: </strong>Yes</p>\n",
       "<p><strong>Duration: </strong>20 hours</p>\n",
       "<p><strong>Want to boost your resume in 2024? Check out </strong><a href=\"https://hackr.io/blog/sql-certifications\"><strong>The Best SQL Certifications</strong></a></p>\n",
       "<h3 id=\"toc-6-linkedin-learning-become-a-database-administrator\"><strong>6. </strong><a href=\"https://www.linkedin.com/learning/paths/become-a-database-administrator\" rel=\"noopener\" target=\"_blank\"><strong>[LinkedIn Learning] Become a Database Administrator</strong></a></h3>\n",
       "<p style=\"text-align: center;\"><a href=\"https://www.linkedin.com/learning/paths/become-a-database-administrator\" rel=\"noopener\" target=\"_blank\"><img alt=\"\" height=\"720\" loading=\"lazy\" src=\"https://cdn.hackr.io/uploads/posts/attachments/16754191584s0VOZTfPr.png\" width=\"960\"/></a></p>\n",
       "<p style=\"text-align: center;\"><strong><a class=\"btn btn-primary btn-call-to-action\" href=\"https://www.linkedin.com/learning/paths/become-a-database-administrator\" rel=\"noopener\" target=\"_blank\">Learn More</a></strong></p>\n",
       "<p><strong>Why we chose this course</strong></p>\n",
       "<p>If you’re interested in learning database admin, you’ll need to know SQL, database configuration, management, performance, security, and more.</p>\n",
       "<p>This learning path comprises 5 online database classes via sub-courses that teach you SQL, data structures, database design, and the most skills for critical database management. It also includes a capstone course that focuses on the integration of an RDBMS with modern web apps.</p>\n",
       "<p><strong>Pros</strong></p>\n",
       "<ul>\n",
       "<li>Comprehensive material over 5 sub-courses</li>\n",
       "<li>Learn SQL and database essentials like indexing &amp; keys</li>\n",
       "<li>Covers performance, security, &amp; availability</li>\n",
       "</ul>\n",
       "<p><strong>Cons</strong></p>\n",
       "<ul>\n",
       "<li>Lots of content to digest, so requires a decent time commitment</li>\n",
       "</ul>\n",
       "<p><strong>Key Information</strong></p>\n",
       "<p><strong>Prerequisites: </strong>None</p>\n",
       "<p><strong>Instructor:</strong> Adam Wilbert</p>\n",
       "<p><strong>Level: </strong>Beginner</p>\n",
       "<p><strong>Free or Paid: </strong>Paid</p>\n",
       "<p><strong>Certificate: </strong>Yes</p>\n",
       "<p><strong>Duration: </strong>12h 28m</p>\n",
       "<h3 id=\"toc-7-coursera-introduction-to-relational-databases-rdbms\"><strong>7. </strong><a href=\"https://imp.i384100.net/c/2890636/1347618/14726?u=https%3A%2F%2Fwww.coursera.org%2Flearn%2Fintroduction-to-relational-databases&amp;partnerpropertyid=2722169\" rel=\"noopener nofollow\" target=\"_blank\"><strong>[Coursera] Introduction to Relational Databases (RDBMS)</strong></a></h3>\n",
       "<p style=\"text-align: center;\"><a href=\"https://imp.i384100.net/c/2890636/1347618/14726?u=https%3A%2F%2Fwww.coursera.org%2Flearn%2Fintroduction-to-relational-databases&amp;partnerpropertyid=2722169\" rel=\"noopener nofollow\" target=\"_blank\"><img alt=\"\" height=\"720\" loading=\"lazy\" src=\"https://cdn.hackr.io/uploads/posts/attachments/1675419192RCrhXOu3bI.png\" width=\"960\"/></a></p>\n",
       "<p style=\"text-align: center;\"><strong><a class=\"btn btn-primary btn-call-to-action\" href=\"https://imp.i384100.net/c/2890636/1347618/14726?u=https%3A%2F%2Fwww.coursera.org%2Flearn%2Fintroduction-to-relational-databases&amp;partnerpropertyid=2722169\" rel=\"noopener nofollow\" target=\"_blank\">Learn More</a></strong></p>\n",
       "<p><strong>Why we chose this course</strong></p>\n",
       "<p>This is an excellent option if you’re interested in learning databases for a career in data engineering. You’ll learn how data is stored, processed, manipulated, and accessed, and you’ll also learn to choose the right type of database for the right project.</p>\n",
       "<p>By using a hands-on approach with real-world data sets, you will learn about relational data models and pick up essential RDBMS concepts for popular systems like MySQL, PostgreSQL, and IBM DB2. This culminates in a project which you can use to showcase your skills and a database certificate online and on your resume.</p>\n",
       "<p><strong>Pros</strong></p>\n",
       "<ul>\n",
       "<li>Learn about MySQL, PostgreSQL, and IBM DB2</li>\n",
       "<li>Uses GUIs and SQL to work with databases </li>\n",
       "<li>Capstone project to add to your portfolio </li>\n",
       "</ul>\n",
       "<p><strong>Cons</strong></p>\n",
       "<ul>\n",
       "<li>Some issues have been reported with interactive lab software</li>\n",
       "</ul>\n",
       "<p><strong>Key Information</strong></p>\n",
       "<p><strong>Prerequisites:</strong> None</p>\n",
       "<p><strong>Instructor:</strong> Rav Ahuja, Sandip Saha Joy, Lin Joyner, and Rose Malcolm</p>\n",
       "<p><strong>Level: </strong>Beginner to Intermediate</p>\n",
       "<p><strong>Free or Paid: </strong>Paid</p>\n",
       "<p><strong>Certificate: </strong>Yes</p>\n",
       "<p><strong>Duration: </strong>Approx. 19 hours</p>\n",
       "<h3 id=\"toc-8-coursera-postgresql-for-everybody-specialization-on-coursera\"><strong>8. </strong><a href=\"https://imp.i384100.net/c/2890636/1347618/14726?u=https%3A%2F%2Fwww.coursera.org%2Fspecializations%2Fpostgresql-for-everybody%23instructors&amp;partnerpropertyid=2722169\" rel=\"noopener nofollow\" target=\"_blank\"><strong>[Coursera] PostgreSQL for Everybody Specialization on Coursera</strong></a></h3>\n",
       "<p style=\"text-align: center;\"><a href=\"https://imp.i384100.net/c/2890636/1347618/14726?u=https%3A%2F%2Fwww.coursera.org%2Fspecializations%2Fpostgresql-for-everybody%23instructors&amp;partnerpropertyid=2722169\" rel=\"noopener nofollow\" target=\"_blank\"><img alt=\"\" height=\"720\" loading=\"lazy\" src=\"https://cdn.hackr.io/uploads/posts/attachments/1675419224V5DZnqMlVJ.png\" width=\"960\"/></a></p>\n",
       "<p style=\"text-align: center;\"><strong><a class=\"btn btn-primary btn-call-to-action\" href=\"https://imp.i384100.net/c/2890636/1347618/14726?u=https%3A%2F%2Fwww.coursera.org%2Fspecializations%2Fpostgresql-for-everybody%23instructors&amp;partnerpropertyid=2722169\" rel=\"noopener nofollow\" target=\"_blank\">Learn More</a></strong></p>\n",
       "<p><strong>Why we chose this course</strong></p>\n",
       "<p>If you are interested in data mining or app development, this offering from Coursera is ideal for you. Made up of four sub-courses, you will focus on PostgreSQL for database design, database architecture, and the difference between SQL and NoSQL paradigms for database design.</p>\n",
       "<p>Expect to learn how to create tables, design data models, compose advanced SQL queries, work with regular expressions, and more. You’ll also have access to graded assignments to cement your understanding.</p>\n",
       "<p><strong>Pros</strong></p>\n",
       "<ul>\n",
       "<li>Comprehensive course material</li>\n",
       "<li>Hands-on approach with graded assignments</li>\n",
       "<li>Learn SQL, database design, and NoSQL ElasticSearch</li>\n",
       "<li>Experienced instructor is a University Professor</li>\n",
       "</ul>\n",
       "<p><strong>Cons</strong></p>\n",
       "<ul>\n",
       "<li>Lots of content, so requires a large time commitment</li>\n",
       "</ul>\n",
       "<p><strong>Key Information</strong></p>\n",
       "<p><strong>Prerequisites: </strong>Basic Python knowledge</p>\n",
       "<p><strong>Instructor:</strong> Charles Russell Severance</p>\n",
       "<p><strong>Level: </strong>Intermediate</p>\n",
       "<p><strong>Free or Paid: </strong>Paid</p>\n",
       "<p><strong>Certificate: </strong>Yes</p>\n",
       "<p><strong>Duration: </strong>64 hours (Video content)</p>\n",
       "<h3 id=\"toc-9-udemy-advanced-databases-and-sql-querying\"><strong>9. </strong><a href=\"https://click.linksynergy.com/deeplink?id=jU79Zysihs4&amp;mid=39197&amp;murl=https%3A%2F%2Fwww.udemy.com%2Fcourse%2Fadvanced-tsql-querying-using-sql-2014%2F\" rel=\"noopener nofollow\" target=\"_blank\"><strong>[Udemy] Advanced Databases and SQL Querying</strong></a></h3>\n",
       "<p style=\"text-align: center;\"><a href=\"https://click.linksynergy.com/deeplink?id=jU79Zysihs4&amp;mid=39197&amp;murl=https%3A%2F%2Fwww.udemy.com%2Fcourse%2Fadvanced-tsql-querying-using-sql-2014%2F\" rel=\"noopener nofollow\" target=\"_blank\"><img alt=\"\" height=\"720\" loading=\"lazy\" src=\"https://cdn.hackr.io/uploads/posts/attachments/1675419282YgFlhohUkl.png\" width=\"960\"/></a></p>\n",
       "<p style=\"text-align: center;\"><strong><a class=\"btn btn-primary btn-call-to-action\" href=\"https://click.linksynergy.com/deeplink?id=jU79Zysihs4&amp;mid=39197&amp;murl=https%3A%2F%2Fwww.udemy.com%2Fcourse%2Fadvanced-tsql-querying-using-sql-2014%2F\" rel=\"noopener nofollow\" target=\"_blank\">Learn More</a></strong></p>\n",
       "<p><strong>Why we chose this course</strong></p>\n",
       "<p>If you’re already familiar with SQL server or T-SQL, then this free course from Udemy might be perfect for you.</p>\n",
       "<p>As an advanced database course, you can expect to learn about advanced concepts like dynamic queries, triggers, stored procedures, user-defined functions (UDF), views, and more. You also get access to T-SQL scripts and assignments to help cement your learning.</p>\n",
       "<p><strong>Pros</strong></p>\n",
       "<ul>\n",
       "<li>Completely free course</li>\n",
       "<li>Covers a range of advanced T-SQL topics </li>\n",
       "<li>Assignments to practice what you’ve learned</li>\n",
       "</ul>\n",
       "<p><strong>Cons</strong></p>\n",
       "<ul>\n",
       "<li>No certificate for your resume</li>\n",
       "</ul>\n",
       "<p><strong>Key Information</strong></p>\n",
       "<p><strong>Instructor: </strong><a href=\"https://click.linksynergy.com/deeplink?id=jU79Zysihs4&amp;mid=39197&amp;murl=https%3A%2F%2Fwww.udemy.com%2Fuser%2F54a6020bb2e0e%2F\" rel=\"noopener nofollow\" target=\"_blank\">Rakesh Gopalakrishnan</a></p>\n",
       "<p><strong>Level:</strong> Advanced</p>\n",
       "<p><strong>Prerequisites: </strong>SQL Server &amp; T-SQL knowledge</p>\n",
       "<p><strong>Free or Paid: </strong>Free</p>\n",
       "<p><strong>Certificate: </strong>No</p>\n",
       "<p><strong>Duration: </strong>3 hours 20m (Video content)</p>\n",
       "<h2 id=\"conclusion\"><strong>Conclusion</strong></h2>\n",
       "<p>Whatever your role in the world of modern tech, you’ve more than likely found yourself in a situation where you need to interact with a database. And as one of the most popular ways of storing, accessing, and manipulating valuable data, adding database skills to your toolkit can be one of the best ways to level up in your current role or help you land a new one.</p>\n",
       "<p>To help you on your learning journey, this article has listed the 10 best database courses online in 2024. And with online database courses from various providers, we’ve been able to include options for beginners and more experienced devs.</p>\n",
       "<p><strong>Want to add more data skills to your resume? Check out our article on </strong><a href=\"https://hackr.io/blog/how-to-learn-sql\"><strong>How To Learn SQL</strong></a></p>\n",
       "<h2 id=\"frequently-asked-questions\"><strong>Frequently Asked Questions</strong></h2>\n",
       "<h4 id=\"toc-1-which-database-course-is-best\"><strong>1. Which Database Course Is Best?</strong></h4>\n",
       "<p>There is no single best database course online, as it depends on your current skills and database knowledge, career goals, time to commit to learning, and more.</p>\n",
       "<p>However, if you’re a beginner, you should check out Coursera’s <a href=\"https://imp.i384100.net/c/2890636/1347618/14726?u=https%3A%2F%2Fwww.coursera.org%2Flearn%2Fintroduction-to-databases&amp;partnerpropertyid=2722169\" rel=\"noopener nofollow\" target=\"_blank\">Introduction to Databases</a> or Udemy’s <a href=\"https://click.linksynergy.com/deeplink?id=jU79Zysihs4&amp;mid=39197&amp;murl=https%3A%2F%2Fwww.udemy.com%2Fcourse%2Fthe-ultimate-mysql-bootcamp-go-from-sql-beginner-to-expert%2F\" rel=\"noopener nofollow\" target=\"_blank\">Ultimate MySQL Bootcamp</a>. If you’re a more experienced database user, maybe look at <a href=\"https://imp.i384100.net/c/2890636/1347618/14726?u=https%3A%2F%2Fwww.coursera.org%2Fspecializations%2Fpostgresql-for-everybody%23instructors&amp;partnerpropertyid=2722169\" rel=\"noopener nofollow\" target=\"_blank\">PostgreSQL for Everybody</a> on Coursera.</p>\n",
       "<h4 id=\"toc-2-what-are-database-courses\"><strong>2. What Are Database Courses?</strong></h4>\n",
       "<p>Database courses are units of teaching to provide students with a hands-on introduction to the fundamentals of SQL and relational database design.</p>\n",
       "<p>Depending on the course focus, these may take a vanilla approach to SQL or focus on specific RDBMS like MySQL or PostgreSQL. Often these courses will also include a certificate which you can add to your resume to demonstrate the skills you have gained.</p>\n",
       "<p> </p>\n",
       "</article>"
      ]
     },
     "execution_count": 82,
     "metadata": {},
     "output_type": "execute_result"
    }
   ],
   "source": [
    "course_content.find(\"article\",{\"class\":\"article-content\"})"
   ]
  },
  {
   "cell_type": "code",
   "execution_count": 86,
   "metadata": {},
   "outputs": [
    {
     "name": "stdout",
     "output_type": "stream",
     "text": [
      "author:  Jim Markus\n",
      "course date:  09 Jan, 2024\n",
      "article content:  We spotted several Udemy cours ...\n"
     ]
    },
    {
     "data": {
      "text/plain": [
       "[\"We spotted several Udemy courses at the best prices we've ever seen! This is a limited-time offer, and many of the courses match their Black Friday prices. What a way to start the new year!\",\n",
       " 'Check out the full sale at Udemy.',\n",
       " 'Remember, we evaluate these because the community at Hackr.io regularly submits Udemy tutorials for data science, design, and specific coding languages like Python. We review all submissions, and we evaluate the popularity based on community feedback.',\n",
       " 'So what are the best deals at Udemy this week? Here are some of our favorites.']"
      ]
     },
     "execution_count": 86,
     "metadata": {},
     "output_type": "execute_result"
    }
   ],
   "source": [
    "\n",
    "time.sleep(randint(0, 4))\n",
    "response = requests.get(\"https://hackr.io/blog/on-sale-at-udemy\")\n",
    "if response.status_code==200:\n",
    "    course_content = BeautifulSoup(response.text, 'lxml')\n",
    "\n",
    "    author_tag = course_content.find(\"a\", {\"class\":\"align-middle inline-block text-hackr-blue text-p14 font-medium\"})\n",
    "    author = author_tag.get_text().strip()\n",
    "    print(\"author: \", author)\n",
    "\n",
    "    course_date_tags = course_content.findAll(\"span\", {\"class\":\"align-middle inline-block text-hackr-black text-p14 font-medium\"})\n",
    "    for course_date_tag in course_date_tags:\n",
    "        course_date = course_date_tag.get_text().strip()\n",
    "        if course_date != \"|\":\n",
    "            course_date\n",
    "    print(\"course date: \", course_date)\n",
    "\n",
    "    article_content_tag = course_content.find(\"article\",{\"class\":\"article-content\"})\n",
    "    article_paragraphs=[ article_paragraph.get_text() for article_paragraph in article_content_tag.findAll(\"p\")[:4]]\n",
    "    article_content_first_4_graph = \"\".join(article_paragraphs)\n",
    "    print(\"article content: \", article_content_first_4_graph[:30], \"...\")\n",
    "\n",
    "article_paragraphs"
   ]
  }
 ],
 "metadata": {
  "kernelspec": {
   "display_name": "Python 3",
   "language": "python",
   "name": "python3"
  },
  "language_info": {
   "codemirror_mode": {
    "name": "ipython",
    "version": 3
   },
   "file_extension": ".py",
   "mimetype": "text/x-python",
   "name": "python",
   "nbconvert_exporter": "python",
   "pygments_lexer": "ipython3",
   "version": "3.8.2"
  }
 },
 "nbformat": 4,
 "nbformat_minor": 2
}
